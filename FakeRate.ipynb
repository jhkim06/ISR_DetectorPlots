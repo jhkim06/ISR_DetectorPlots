{
 "cells": [
  {
   "cell_type": "code",
   "execution_count": 1,
   "metadata": {},
   "outputs": [
    {
     "name": "stdout",
     "output_type": "stream",
     "text": [
      "Welcome to JupyROOT 6.14/04\n"
     ]
    }
   ],
   "source": [
    "import ROOT as rt"
   ]
  },
  {
   "cell_type": "code",
   "execution_count": 2,
   "metadata": {},
   "outputs": [],
   "source": [
    "mcList = {\"WJets_MG\": \"WJets\", \\\n",
    "           \"WW_pythia\": \"EWK\", \"WZ_pythia\": \"EWK\", \"ZZ_pythia\": \"EWK\", \\\n",
    "           \"DYJets10to50ToTauTau\":\"EWK\", \"DYJetsToTauTau\":\"EWK\", \\\n",
    "           \"TTLL_powheg\": \"Top\", \"SingleTop_tW_top_Incl\": \"Top\", \"SingleTop_tW_antitop_Incl\": \"Top\"}"
   ]
  },
  {
   "cell_type": "code",
   "execution_count": 3,
   "metadata": {},
   "outputs": [
    {
     "data": {
      "text/plain": [
       "0"
      ]
     },
     "execution_count": 3,
     "metadata": {},
     "output_type": "execute_result"
    },
    {
     "name": "stdout",
     "output_type": "stream",
     "text": [
      "\n",
      "\u001b[1mRooFit v3.60 -- Developed by Wouter Verkerke and David Kirkby\u001b[0m \n",
      "                Copyright (C) 2000-2013 NIKHEF, University of California & Stanford University\n",
      "                All rights reserved, please read http://roofit.sourceforge.net/license.txt\n",
      "\n"
     ]
    }
   ],
   "source": [
    "rt.gROOT.ProcessLine(\".L ./src/Hists.cc\")"
   ]
  },
  {
   "cell_type": "code",
   "execution_count": 4,
   "metadata": {},
   "outputs": [
    {
     "name": "stdout",
     "output_type": "stream",
     "text": [
      "Initialize Hists class...\n",
      "File: /home/jhkim/ISR_Run2/fake/dijet/electron/2016/data/LL_SS_.root\n",
      "Hist directory: detector_level\n",
      "Variable: Mass\n"
     ]
    }
   ],
   "source": [
    "same_sign = rt.Hists(\"/home/jhkim/ISR_Run2/fake/dijet/electron/2016/data/LL_SS_.root\", \"detector_level\")"
   ]
  },
  {
   "cell_type": "code",
   "execution_count": null,
   "metadata": {},
   "outputs": [],
   "source": [
    "#for bkg in mcList.items():\n",
    "#    same_sign.setMCHistInfo(bkg)"
   ]
  },
  {
   "cell_type": "code",
   "execution_count": null,
   "metadata": {},
   "outputs": [],
   "source": [
    "same_sign.drawHists(\"mass[UO];pt[UOC0]\", False)"
   ]
  },
  {
   "cell_type": "code",
   "execution_count": null,
   "metadata": {},
   "outputs": [],
   "source": [
    "opposite_sign = rt.Hists(\"/home/jhkim/ISR_Run2/fake/dijet/electron/2016/data/LL_OS_.root\", \"Detector\")"
   ]
  },
  {
   "cell_type": "code",
   "execution_count": null,
   "metadata": {},
   "outputs": [],
   "source": [
    "#for bkg in mcList.items():\n",
    "#    opposite_sign.setMCHistInfo(bkg)"
   ]
  },
  {
   "cell_type": "code",
   "execution_count": null,
   "metadata": {},
   "outputs": [],
   "source": [
    "opposite_sign.drawHists(\"mass[UO];pt[UOC0]\", False)"
   ]
  },
  {
   "cell_type": "code",
   "execution_count": null,
   "metadata": {},
   "outputs": [],
   "source": [
    "template = same_sign.getFakeTemplate()\n"
   ]
  },
  {
   "cell_type": "code",
   "execution_count": null,
   "metadata": {},
   "outputs": [],
   "source": [
    "Top = opposite_sign.getSummedHists(\"Top\", \"mass[UO];pt[UOC0]\", False);"
   ]
  },
  {
   "cell_type": "code",
   "execution_count": null,
   "metadata": {},
   "outputs": [],
   "source": [
    "c = rt.TCanvas(\"c\",\"c\", 1500, 600)"
   ]
  },
  {
   "cell_type": "code",
   "execution_count": null,
   "metadata": {},
   "outputs": [],
   "source": [
    "c.SetLogy()\n",
    "c.Draw()"
   ]
  },
  {
   "cell_type": "code",
   "execution_count": null,
   "metadata": {},
   "outputs": [],
   "source": [
    "#opposite_sign.doDijetTemplateFit(template, \"mass[UO];pt[UOC0]\", False)\n",
    "\n",
    "#fitVar = rt.RooRealVar(\"Mass\",\"Mass\", 0.5, 30.5)\n",
    "\n",
    "#hData = opposite_sign.getDataHist()\n",
    "\n",
    "#rhData = rt.RooDataHist(\"RooHist_data\", \"RooHistogram_data\", rt.RooArgList(fitVar), rt.RooFit.Import(hData))\n",
    "\n",
    "#hMCSig = opposite_sign.getMCSig()\n",
    "#\n",
    "#rhMCSig = rt.RooDataHist(\"RooHist_MCSig\", \"RooHistogram_MCSIg\", rt.RooArgList(fitVar), rt.RooFit.Import(hMCSig))\n",
    "#\n",
    "#rhFakeTemplate = rt.RooDataHist(\"RooHist_QCDTemplate\", \"RooHistogram_QCDTemplate\", rt.RooArgList(fitVar), rt.RooFit.Import(template))\n",
    "#\n",
    "#N_MCSig = hMCSig.Integral()\n",
    "#N_Fake = template.Integral()\n",
    "#ratio = hData.Integral()/ (N_MCSig+N_Fake)\n",
    "#\n",
    "#N_MCSig *= ratio\n",
    "#N_Fake *= ratio\n",
    "#\n",
    "#n_MCSig = rt.RooRealVar(\"n_MCSig\", \"n_MCSig\", N_MCSig, N_MCSig*0.9, N_MCSig*1.1)\n",
    "#n_Fake = rt.RooRealVar(\"n_Fake\", \"n_Fake\", N_Fake, N_Fake*0.7, N_Fake*1.3)\n",
    "#\n",
    "#pdfFakeTemplate = rt.RooHistPdf(\"pdf_QCD\", \"Template from data-driven dijet\", rt.RooArgSet(fitVar), rhFakeTemplate, 0)\n",
    "#pdfMCSig = rt.RooHistPdf(\"pdf_MCSig\", \"Template from DY MC\", rt.RooArgSet(fitVar), rhMCSig, 0)\n",
    "#\n",
    "#model = rt.RooAddPdf(\"model\",\"model\", rt.RooArgList(pdfFakeTemplate, pdfMCSig), rt.RooArgList(n_Fake, n_MCSig))\n",
    "#\n",
    "#model.fitTo(rhData)\n",
    "#\n",
    "#"
   ]
  }
 ],
 "metadata": {
  "kernelspec": {
   "display_name": "Python 3",
   "language": "python",
   "name": "python3"
  },
  "language_info": {
   "codemirror_mode": {
    "name": "ipython",
    "version": 3
   },
   "file_extension": ".py",
   "mimetype": "text/x-python",
   "name": "python",
   "nbconvert_exporter": "python",
   "pygments_lexer": "ipython3",
   "version": "3.6.8"
  }
 },
 "nbformat": 4,
 "nbformat_minor": 4
}
